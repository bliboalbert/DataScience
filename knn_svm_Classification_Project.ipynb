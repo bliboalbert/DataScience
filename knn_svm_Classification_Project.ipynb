{
 "cells": [
  {
   "cell_type": "markdown",
   "id": "637dd35e",
   "metadata": {},
   "source": [
    "Second Personal Project on ML Classification\n",
    "This is a classification project using KNN and SVM Algorithm to\n",
    "Classify Banking CreditCard transactional records as either fraudulent or legitimate\n",
    "Project done without supervision - only pure desire and keeping track record\n",
    "by Blibo Albert @bliboalbert <- github && LinkedIn"
   ]
  },
  {
   "cell_type": "code",
   "execution_count": 1,
   "id": "ee015ad7",
   "metadata": {},
   "outputs": [],
   "source": [
    "# In this project I will train two powerful machine learning algorithms to classify\n",
    "# creditcard transactions as either legitimate {class 0} or fraudulent {class 1}\n",
    "# K Nearest Neighbor algorithm and Support Vector Machine Algorithm is used to train the models\n",
    "# Datasets used in this project were downloaded from kaggle.com {one powerful data aggregator}"
   ]
  },
  {
   "cell_type": "markdown",
   "id": "e61a2c1b",
   "metadata": {},
   "source": [
    "Project @2a\n",
    "KNN - K-Nearest Neighbor Classifier"
   ]
  },
  {
   "cell_type": "code",
   "execution_count": 2,
   "id": "33bfaf0c",
   "metadata": {},
   "outputs": [],
   "source": [
    "# K-Nearest Neighbor Classifier\n",
    "# KNN works on the intuition of predicting the class in which a datapoint will fall when it is near\n",
    "# already predicted class of datapoints\n",
    "# KNN uses either euclidian distance or manhatan distance or cosine distance to determine the class in\n",
    "# which a new datapoint will fall\n",
    "# It is either the new datapoint's distance is very close to a particular neighbor\n",
    "# Or the new datapoint is close to K neighbors of one class than the other\n",
    "# KNN is a lazy learning approach since you always have to query the model before..."
   ]
  },
  {
   "cell_type": "markdown",
   "id": "71fc85af",
   "metadata": {},
   "source": [
    "Data access, Data Analysis and Preprocessing"
   ]
  },
  {
   "cell_type": "code",
   "execution_count": 5,
   "id": "9cac7791",
   "metadata": {},
   "outputs": [],
   "source": [
    "# import important sklearn and SciPy libraries"
   ]
  },
  {
   "cell_type": "code",
   "execution_count": 1,
   "id": "b0b77636",
   "metadata": {},
   "outputs": [],
   "source": [
    "from sklearn.neighbors import KNeighborsClassifier\n",
    "from sklearn.svm import LinearSVC\n",
    "from sklearn.model_selection import train_test_split\n",
    "from sklearn import preprocessing\n",
    "import pandas as pd\n",
    "import seaborn as sns\n",
    "import matplotlib.pyplot as plt\n",
    "%matplotlib inline\n",
    "import numpy as np"
   ]
  },
  {
   "cell_type": "code",
   "execution_count": 3,
   "id": "6aa34f3f",
   "metadata": {},
   "outputs": [],
   "source": [
    "# Access dataset for preprocessing and analysis"
   ]
  },
  {
   "cell_type": "code",
   "execution_count": 2,
   "id": "a082fedc",
   "metadata": {},
   "outputs": [
    {
     "data": {
      "text/html": [
       "<div>\n",
       "<style scoped>\n",
       "    .dataframe tbody tr th:only-of-type {\n",
       "        vertical-align: middle;\n",
       "    }\n",
       "\n",
       "    .dataframe tbody tr th {\n",
       "        vertical-align: top;\n",
       "    }\n",
       "\n",
       "    .dataframe thead th {\n",
       "        text-align: right;\n",
       "    }\n",
       "</style>\n",
       "<table border=\"1\" class=\"dataframe\">\n",
       "  <thead>\n",
       "    <tr style=\"text-align: right;\">\n",
       "      <th></th>\n",
       "      <th>Time</th>\n",
       "      <th>V1</th>\n",
       "      <th>V2</th>\n",
       "      <th>V3</th>\n",
       "      <th>V4</th>\n",
       "      <th>V5</th>\n",
       "      <th>V6</th>\n",
       "      <th>V7</th>\n",
       "      <th>V8</th>\n",
       "      <th>V9</th>\n",
       "      <th>...</th>\n",
       "      <th>V21</th>\n",
       "      <th>V22</th>\n",
       "      <th>V23</th>\n",
       "      <th>V24</th>\n",
       "      <th>V25</th>\n",
       "      <th>V26</th>\n",
       "      <th>V27</th>\n",
       "      <th>V28</th>\n",
       "      <th>Amount</th>\n",
       "      <th>Class</th>\n",
       "    </tr>\n",
       "  </thead>\n",
       "  <tbody>\n",
       "    <tr>\n",
       "      <th>0</th>\n",
       "      <td>0.0</td>\n",
       "      <td>-1.359807</td>\n",
       "      <td>-0.072781</td>\n",
       "      <td>2.536347</td>\n",
       "      <td>1.378155</td>\n",
       "      <td>-0.338321</td>\n",
       "      <td>0.462388</td>\n",
       "      <td>0.239599</td>\n",
       "      <td>0.098698</td>\n",
       "      <td>0.363787</td>\n",
       "      <td>...</td>\n",
       "      <td>-0.018307</td>\n",
       "      <td>0.277838</td>\n",
       "      <td>-0.110474</td>\n",
       "      <td>0.066928</td>\n",
       "      <td>0.128539</td>\n",
       "      <td>-0.189115</td>\n",
       "      <td>0.133558</td>\n",
       "      <td>-0.021053</td>\n",
       "      <td>149.62</td>\n",
       "      <td>0</td>\n",
       "    </tr>\n",
       "    <tr>\n",
       "      <th>1</th>\n",
       "      <td>0.0</td>\n",
       "      <td>1.191857</td>\n",
       "      <td>0.266151</td>\n",
       "      <td>0.166480</td>\n",
       "      <td>0.448154</td>\n",
       "      <td>0.060018</td>\n",
       "      <td>-0.082361</td>\n",
       "      <td>-0.078803</td>\n",
       "      <td>0.085102</td>\n",
       "      <td>-0.255425</td>\n",
       "      <td>...</td>\n",
       "      <td>-0.225775</td>\n",
       "      <td>-0.638672</td>\n",
       "      <td>0.101288</td>\n",
       "      <td>-0.339846</td>\n",
       "      <td>0.167170</td>\n",
       "      <td>0.125895</td>\n",
       "      <td>-0.008983</td>\n",
       "      <td>0.014724</td>\n",
       "      <td>2.69</td>\n",
       "      <td>0</td>\n",
       "    </tr>\n",
       "    <tr>\n",
       "      <th>2</th>\n",
       "      <td>1.0</td>\n",
       "      <td>-1.358354</td>\n",
       "      <td>-1.340163</td>\n",
       "      <td>1.773209</td>\n",
       "      <td>0.379780</td>\n",
       "      <td>-0.503198</td>\n",
       "      <td>1.800499</td>\n",
       "      <td>0.791461</td>\n",
       "      <td>0.247676</td>\n",
       "      <td>-1.514654</td>\n",
       "      <td>...</td>\n",
       "      <td>0.247998</td>\n",
       "      <td>0.771679</td>\n",
       "      <td>0.909412</td>\n",
       "      <td>-0.689281</td>\n",
       "      <td>-0.327642</td>\n",
       "      <td>-0.139097</td>\n",
       "      <td>-0.055353</td>\n",
       "      <td>-0.059752</td>\n",
       "      <td>378.66</td>\n",
       "      <td>0</td>\n",
       "    </tr>\n",
       "    <tr>\n",
       "      <th>3</th>\n",
       "      <td>1.0</td>\n",
       "      <td>-0.966272</td>\n",
       "      <td>-0.185226</td>\n",
       "      <td>1.792993</td>\n",
       "      <td>-0.863291</td>\n",
       "      <td>-0.010309</td>\n",
       "      <td>1.247203</td>\n",
       "      <td>0.237609</td>\n",
       "      <td>0.377436</td>\n",
       "      <td>-1.387024</td>\n",
       "      <td>...</td>\n",
       "      <td>-0.108300</td>\n",
       "      <td>0.005274</td>\n",
       "      <td>-0.190321</td>\n",
       "      <td>-1.175575</td>\n",
       "      <td>0.647376</td>\n",
       "      <td>-0.221929</td>\n",
       "      <td>0.062723</td>\n",
       "      <td>0.061458</td>\n",
       "      <td>123.50</td>\n",
       "      <td>0</td>\n",
       "    </tr>\n",
       "    <tr>\n",
       "      <th>4</th>\n",
       "      <td>2.0</td>\n",
       "      <td>-1.158233</td>\n",
       "      <td>0.877737</td>\n",
       "      <td>1.548718</td>\n",
       "      <td>0.403034</td>\n",
       "      <td>-0.407193</td>\n",
       "      <td>0.095921</td>\n",
       "      <td>0.592941</td>\n",
       "      <td>-0.270533</td>\n",
       "      <td>0.817739</td>\n",
       "      <td>...</td>\n",
       "      <td>-0.009431</td>\n",
       "      <td>0.798278</td>\n",
       "      <td>-0.137458</td>\n",
       "      <td>0.141267</td>\n",
       "      <td>-0.206010</td>\n",
       "      <td>0.502292</td>\n",
       "      <td>0.219422</td>\n",
       "      <td>0.215153</td>\n",
       "      <td>69.99</td>\n",
       "      <td>0</td>\n",
       "    </tr>\n",
       "  </tbody>\n",
       "</table>\n",
       "<p>5 rows × 31 columns</p>\n",
       "</div>"
      ],
      "text/plain": [
       "   Time        V1        V2        V3        V4        V5        V6        V7  \\\n",
       "0   0.0 -1.359807 -0.072781  2.536347  1.378155 -0.338321  0.462388  0.239599   \n",
       "1   0.0  1.191857  0.266151  0.166480  0.448154  0.060018 -0.082361 -0.078803   \n",
       "2   1.0 -1.358354 -1.340163  1.773209  0.379780 -0.503198  1.800499  0.791461   \n",
       "3   1.0 -0.966272 -0.185226  1.792993 -0.863291 -0.010309  1.247203  0.237609   \n",
       "4   2.0 -1.158233  0.877737  1.548718  0.403034 -0.407193  0.095921  0.592941   \n",
       "\n",
       "         V8        V9  ...       V21       V22       V23       V24       V25  \\\n",
       "0  0.098698  0.363787  ... -0.018307  0.277838 -0.110474  0.066928  0.128539   \n",
       "1  0.085102 -0.255425  ... -0.225775 -0.638672  0.101288 -0.339846  0.167170   \n",
       "2  0.247676 -1.514654  ...  0.247998  0.771679  0.909412 -0.689281 -0.327642   \n",
       "3  0.377436 -1.387024  ... -0.108300  0.005274 -0.190321 -1.175575  0.647376   \n",
       "4 -0.270533  0.817739  ... -0.009431  0.798278 -0.137458  0.141267 -0.206010   \n",
       "\n",
       "        V26       V27       V28  Amount  Class  \n",
       "0 -0.189115  0.133558 -0.021053  149.62      0  \n",
       "1  0.125895 -0.008983  0.014724    2.69      0  \n",
       "2 -0.139097 -0.055353 -0.059752  378.66      0  \n",
       "3 -0.221929  0.062723  0.061458  123.50      0  \n",
       "4  0.502292  0.219422  0.215153   69.99      0  \n",
       "\n",
       "[5 rows x 31 columns]"
      ]
     },
     "execution_count": 2,
     "metadata": {},
     "output_type": "execute_result"
    }
   ],
   "source": [
    "data = pd.read_csv('creditcard.csv')\n",
    "data.head()"
   ]
  },
  {
   "cell_type": "code",
   "execution_count": 3,
   "id": "da9b954a",
   "metadata": {},
   "outputs": [
    {
     "name": "stdout",
     "output_type": "stream",
     "text": [
      "There are 284807 observations and 31 features in the dataset.\n"
     ]
    }
   ],
   "source": [
    "# some info about dataset\n",
    "observation = len(data.index)\n",
    "features = len(data.columns)\n",
    "print('There are {} observations and {} features in the dataset.'.format(observation, features))"
   ]
  },
  {
   "cell_type": "code",
   "execution_count": 4,
   "id": "df830062",
   "metadata": {},
   "outputs": [],
   "source": [
    "# The dataset has already been normalize, thus from V1 to V28 we see the normalization of the dataset\n",
    "# We can go ahead and extract features for our training\n",
    "# our target is the column named class, which consist of a class group of 0s and 1s"
   ]
  },
  {
   "cell_type": "code",
   "execution_count": 5,
   "id": "3592d88e",
   "metadata": {},
   "outputs": [
    {
     "name": "stdout",
     "output_type": "stream",
     "text": [
      "Unbalanced Data: There are 284315 Class 0s and 492 class 1s.\n"
     ]
    }
   ],
   "source": [
    "# how many 0s and 1s are there? thus is our target datapoints balanced for a better training?\n",
    "class_size = data.Class.value_counts().values\n",
    "print('Unbalanced Data: There are {} Class 0s and {} class 1s.'.format(class_size[0], class_size[1]))"
   ]
  },
  {
   "cell_type": "code",
   "execution_count": 8,
   "id": "8f9923ee",
   "metadata": {},
   "outputs": [
    {
     "data": {
      "image/png": "[encoded data removed]",
      "text/plain": [
       "<Figure size 640x480 with 1 Axes>"
      ]
     },
     "metadata": {},
     "output_type": "display_data"
    }
   ],
   "source": [
    "# data bias visuals with pie chart\n",
    "target = data.Class.unique()\n",
    "size = data.Class.value_counts().values\n",
    "fig, ax = plt.subplots()\n",
    "ax.pie(size,labels=target, autopct='%.2f%%')\n",
    "ax.set_title('Bias Data Representation')\n",
    "plt.show()"
   ]
  },
  {
   "cell_type": "code",
   "execution_count": 17,
   "id": "9f039d4a",
   "metadata": {},
   "outputs": [],
   "source": [
    "# extracting feature matrix and response vector or target from data dataframe\n",
    "X = data.iloc[:, 1:-1]\n",
    "y = data.iloc[:,-1]"
   ]
  },
  {
   "cell_type": "code",
   "execution_count": 27,
   "id": "cc5a384e",
   "metadata": {},
   "outputs": [
    {
     "data": {
      "text/html": [
       "<div>\n",
       "<style scoped>\n",
       "    .dataframe tbody tr th:only-of-type {\n",
       "        vertical-align: middle;\n",
       "    }\n",
       "\n",
       "    .dataframe tbody tr th {\n",
       "        vertical-align: top;\n",
       "    }\n",
       "\n",
       "    .dataframe thead th {\n",
       "        text-align: right;\n",
       "    }\n",
       "</style>\n",
       "<table border=\"1\" class=\"dataframe\">\n",
       "  <thead>\n",
       "    <tr style=\"text-align: right;\">\n",
       "      <th></th>\n",
       "      <th>V1</th>\n",
       "      <th>V2</th>\n",
       "      <th>V3</th>\n",
       "      <th>V4</th>\n",
       "      <th>V5</th>\n",
       "      <th>V6</th>\n",
       "      <th>V7</th>\n",
       "      <th>V8</th>\n",
       "      <th>V9</th>\n",
       "      <th>V10</th>\n",
       "      <th>...</th>\n",
       "      <th>V20</th>\n",
       "      <th>V21</th>\n",
       "      <th>V22</th>\n",
       "      <th>V23</th>\n",
       "      <th>V24</th>\n",
       "      <th>V25</th>\n",
       "      <th>V26</th>\n",
       "      <th>V27</th>\n",
       "      <th>V28</th>\n",
       "      <th>Amount</th>\n",
       "    </tr>\n",
       "  </thead>\n",
       "  <tbody>\n",
       "    <tr>\n",
       "      <th>0</th>\n",
       "      <td>-1.359807</td>\n",
       "      <td>-0.072781</td>\n",
       "      <td>2.536347</td>\n",
       "      <td>1.378155</td>\n",
       "      <td>-0.338321</td>\n",
       "      <td>0.462388</td>\n",
       "      <td>0.239599</td>\n",
       "      <td>0.098698</td>\n",
       "      <td>0.363787</td>\n",
       "      <td>0.090794</td>\n",
       "      <td>...</td>\n",
       "      <td>0.251412</td>\n",
       "      <td>-0.018307</td>\n",
       "      <td>0.277838</td>\n",
       "      <td>-0.110474</td>\n",
       "      <td>0.066928</td>\n",
       "      <td>0.128539</td>\n",
       "      <td>-0.189115</td>\n",
       "      <td>0.133558</td>\n",
       "      <td>-0.021053</td>\n",
       "      <td>149.62</td>\n",
       "    </tr>\n",
       "    <tr>\n",
       "      <th>1</th>\n",
       "      <td>1.191857</td>\n",
       "      <td>0.266151</td>\n",
       "      <td>0.166480</td>\n",
       "      <td>0.448154</td>\n",
       "      <td>0.060018</td>\n",
       "      <td>-0.082361</td>\n",
       "      <td>-0.078803</td>\n",
       "      <td>0.085102</td>\n",
       "      <td>-0.255425</td>\n",
       "      <td>-0.166974</td>\n",
       "      <td>...</td>\n",
       "      <td>-0.069083</td>\n",
       "      <td>-0.225775</td>\n",
       "      <td>-0.638672</td>\n",
       "      <td>0.101288</td>\n",
       "      <td>-0.339846</td>\n",
       "      <td>0.167170</td>\n",
       "      <td>0.125895</td>\n",
       "      <td>-0.008983</td>\n",
       "      <td>0.014724</td>\n",
       "      <td>2.69</td>\n",
       "    </tr>\n",
       "    <tr>\n",
       "      <th>2</th>\n",
       "      <td>-1.358354</td>\n",
       "      <td>-1.340163</td>\n",
       "      <td>1.773209</td>\n",
       "      <td>0.379780</td>\n",
       "      <td>-0.503198</td>\n",
       "      <td>1.800499</td>\n",
       "      <td>0.791461</td>\n",
       "      <td>0.247676</td>\n",
       "      <td>-1.514654</td>\n",
       "      <td>0.207643</td>\n",
       "      <td>...</td>\n",
       "      <td>0.524980</td>\n",
       "      <td>0.247998</td>\n",
       "      <td>0.771679</td>\n",
       "      <td>0.909412</td>\n",
       "      <td>-0.689281</td>\n",
       "      <td>-0.327642</td>\n",
       "      <td>-0.139097</td>\n",
       "      <td>-0.055353</td>\n",
       "      <td>-0.059752</td>\n",
       "      <td>378.66</td>\n",
       "    </tr>\n",
       "    <tr>\n",
       "      <th>3</th>\n",
       "      <td>-0.966272</td>\n",
       "      <td>-0.185226</td>\n",
       "      <td>1.792993</td>\n",
       "      <td>-0.863291</td>\n",
       "      <td>-0.010309</td>\n",
       "      <td>1.247203</td>\n",
       "      <td>0.237609</td>\n",
       "      <td>0.377436</td>\n",
       "      <td>-1.387024</td>\n",
       "      <td>-0.054952</td>\n",
       "      <td>...</td>\n",
       "      <td>-0.208038</td>\n",
       "      <td>-0.108300</td>\n",
       "      <td>0.005274</td>\n",
       "      <td>-0.190321</td>\n",
       "      <td>-1.175575</td>\n",
       "      <td>0.647376</td>\n",
       "      <td>-0.221929</td>\n",
       "      <td>0.062723</td>\n",
       "      <td>0.061458</td>\n",
       "      <td>123.50</td>\n",
       "    </tr>\n",
       "    <tr>\n",
       "      <th>4</th>\n",
       "      <td>-1.158233</td>\n",
       "      <td>0.877737</td>\n",
       "      <td>1.548718</td>\n",
       "      <td>0.403034</td>\n",
       "      <td>-0.407193</td>\n",
       "      <td>0.095921</td>\n",
       "      <td>0.592941</td>\n",
       "      <td>-0.270533</td>\n",
       "      <td>0.817739</td>\n",
       "      <td>0.753074</td>\n",
       "      <td>...</td>\n",
       "      <td>0.408542</td>\n",
       "      <td>-0.009431</td>\n",
       "      <td>0.798278</td>\n",
       "      <td>-0.137458</td>\n",
       "      <td>0.141267</td>\n",
       "      <td>-0.206010</td>\n",
       "      <td>0.502292</td>\n",
       "      <td>0.219422</td>\n",
       "      <td>0.215153</td>\n",
       "      <td>69.99</td>\n",
       "    </tr>\n",
       "  </tbody>\n",
       "</table>\n",
       "<p>5 rows × 29 columns</p>\n",
       "</div>"
      ],
      "text/plain": [
       "         V1        V2        V3        V4        V5        V6        V7  \\\n",
       "0 -1.359807 -0.072781  2.536347  1.378155 -0.338321  0.462388  0.239599   \n",
       "1  1.191857  0.266151  0.166480  0.448154  0.060018 -0.082361 -0.078803   \n",
       "2 -1.358354 -1.340163  1.773209  0.379780 -0.503198  1.800499  0.791461   \n",
       "3 -0.966272 -0.185226  1.792993 -0.863291 -0.010309  1.247203  0.237609   \n",
       "4 -1.158233  0.877737  1.548718  0.403034 -0.407193  0.095921  0.592941   \n",
       "\n",
       "         V8        V9       V10  ...       V20       V21       V22       V23  \\\n",
       "0  0.098698  0.363787  0.090794  ...  0.251412 -0.018307  0.277838 -0.110474   \n",
       "1  0.085102 -0.255425 -0.166974  ... -0.069083 -0.225775 -0.638672  0.101288   \n",
       "2  0.247676 -1.514654  0.207643  ...  0.524980  0.247998  0.771679  0.909412   \n",
       "3  0.377436 -1.387024 -0.054952  ... -0.208038 -0.108300  0.005274 -0.190321   \n",
       "4 -0.270533  0.817739  0.753074  ...  0.408542 -0.009431  0.798278 -0.137458   \n",
       "\n",
       "        V24       V25       V26       V27       V28  Amount  \n",
       "0  0.066928  0.128539 -0.189115  0.133558 -0.021053  149.62  \n",
       "1 -0.339846  0.167170  0.125895 -0.008983  0.014724    2.69  \n",
       "2 -0.689281 -0.327642 -0.139097 -0.055353 -0.059752  378.66  \n",
       "3 -1.175575  0.647376 -0.221929  0.062723  0.061458  123.50  \n",
       "4  0.141267 -0.206010  0.502292  0.219422  0.215153   69.99  \n",
       "\n",
       "[5 rows x 29 columns]"
      ]
     },
     "execution_count": 27,
     "metadata": {},
     "output_type": "execute_result"
    }
   ],
   "source": [
    "X.head()"
   ]
  },
  {
   "cell_type": "code",
   "execution_count": 18,
   "id": "e90ed30e",
   "metadata": {},
   "outputs": [],
   "source": [
    "# Train / Test datasets\n",
    "X_train,X_test, y_train,y_test = train_test_split(X,y, test_size=.33, random_state=44)"
   ]
  },
  {
   "cell_type": "code",
   "execution_count": 9,
   "id": "a1ce04a0",
   "metadata": {},
   "outputs": [],
   "source": [
    "# Care is taken to incomporate the unbalanced dataset in the training/fitting of the model\n",
    "# to ensure the model is biased toward the data class that is more (the 0 class)\n",
    "# in other to combat this, we compute the class weight to normalize the target variable\n",
    "# this will be use in the training of the model to make it bias towards the less datapoints\n"
   ]
  },
  {
   "cell_type": "code",
   "execution_count": 14,
   "id": "85ce80df",
   "metadata": {},
   "outputs": [],
   "source": [
    "from sklearn.utils.class_weight import compute_sample_weight"
   ]
  },
  {
   "cell_type": "code",
   "execution_count": 19,
   "id": "65bc07e6",
   "metadata": {},
   "outputs": [],
   "source": [
    "class_w = compute_sample_weight('balanced', y_train)"
   ]
  },
  {
   "cell_type": "code",
   "execution_count": 23,
   "id": "4777b379",
   "metadata": {},
   "outputs": [
    {
     "data": {
      "text/plain": [
       "KNeighborsClassifier(n_jobs=10, n_neighbors=4)"
      ]
     },
     "execution_count": 23,
     "metadata": {},
     "output_type": "execute_result"
    }
   ],
   "source": [
    "# train model, knn_model = KNeighborsClassifier()\n",
    "# with hyperparameter tuning :- weight, n_neighbors=4, n_jobs=10\n",
    "knn_model = KNeighborsClassifier(n_neighbors=4, n_jobs=10, weights='uniform')\n",
    "knn_model.fit(X_train, y_train)\n",
    "knn_model"
   ]
  },
  {
   "cell_type": "code",
   "execution_count": 24,
   "id": "3f5c18c5",
   "metadata": {},
   "outputs": [
    {
     "name": "stderr",
     "output_type": "stream",
     "text": [
      "C:\\ProgramData\\Anaconda3\\lib\\site-packages\\sklearn\\neighbors\\_classification.py:228: FutureWarning: Unlike other reduction functions (e.g. `skew`, `kurtosis`), the default behavior of `mode` typically preserves the axis it acts along. In SciPy 1.11.0, this behavior will change: the default value of `keepdims` will become False, the `axis` over which the statistic is taken will be eliminated, and the value None will no longer be accepted. Set `keepdims` to True or False to avoid this warning.\n",
      "  mode, _ = stats.mode(_y[neigh_ind, k], axis=1)\n"
     ]
    },
    {
     "data": {
      "text/plain": [
       "array([0, 0, 0, 0, 0], dtype=int64)"
      ]
     },
     "execution_count": 24,
     "metadata": {},
     "output_type": "execute_result"
    }
   ],
   "source": [
    "# make inferences and evaluate model\n",
    "knn_train_pred = knn_model.predict(X_train)\n",
    "knn_train_pred[:5]"
   ]
  },
  {
   "cell_type": "code",
   "execution_count": 25,
   "id": "0cb75c4c",
   "metadata": {},
   "outputs": [
    {
     "name": "stdout",
     "output_type": "stream",
     "text": [
      "Train Accuracy: 1.00\n"
     ]
    }
   ],
   "source": [
    "from sklearn.metrics import accuracy_score\n",
    "print('Train Accuracy: {0:.2f}'.format(accuracy_score(y_train, knn_train_pred)))"
   ]
  },
  {
   "cell_type": "code",
   "execution_count": 26,
   "id": "047ef0da",
   "metadata": {},
   "outputs": [
    {
     "name": "stderr",
     "output_type": "stream",
     "text": [
      "C:\\ProgramData\\Anaconda3\\lib\\site-packages\\sklearn\\neighbors\\_classification.py:228: FutureWarning: Unlike other reduction functions (e.g. `skew`, `kurtosis`), the default behavior of `mode` typically preserves the axis it acts along. In SciPy 1.11.0, this behavior will change: the default value of `keepdims` will become False, the `axis` over which the statistic is taken will be eliminated, and the value None will no longer be accepted. Set `keepdims` to True or False to avoid this warning.\n",
      "  mode, _ = stats.mode(_y[neigh_ind, k], axis=1)\n"
     ]
    },
    {
     "name": "stdout",
     "output_type": "stream",
     "text": [
      "Test Accuracy: 1.00\n"
     ]
    }
   ],
   "source": [
    "knn_test = knn_model.predict(X_test)\n",
    "print('Test Accuracy: {0:.2f}'.format(accuracy_score(y_test, knn_test)))"
   ]
  },
  {
   "cell_type": "code",
   "execution_count": 32,
   "id": "5231dcd2",
   "metadata": {},
   "outputs": [],
   "source": [
    "#for ids, cl in enumerate(knn_test):\n",
    " #   if cl == 0:\n",
    " #       count = 0\n",
    "  #      print('Legitimate Transaction! class is {}.'.format(cl))\n",
    "  ##     if count == 10:\n",
    "          #  break\n",
    "   # else:\n",
    "       # print('Fraudulent Transaction! class is {}.'.format(cl))"
   ]
  },
  {
   "cell_type": "code",
   "execution_count": 35,
   "id": "55f732dd",
   "metadata": {},
   "outputs": [],
   "source": [
    "from sklearn.metrics import confusion_matrix, classification_report\n",
    "\n",
    "cm = confusion_matrix(y_test, knn_test, labels=[0,1])\n",
    "cm_train = confusion_matrix(y_train, knn_train_pred, labels=[0,1])\n",
    "c_report = classification_report(y_test, knn_test)"
   ]
  },
  {
   "cell_type": "code",
   "execution_count": 39,
   "id": "ae78c67e",
   "metadata": {},
   "outputs": [
    {
     "name": "stdout",
     "output_type": "stream",
     "text": [
      "[[93822     4]\n",
      " [   69    92]]\n",
      "\n",
      "\n",
      "[[190478     11]\n",
      " [   105    226]]\n",
      "              precision    recall  f1-score   support\n",
      "\n",
      "           0       1.00      1.00      1.00     93826\n",
      "           1       0.96      0.57      0.72       161\n",
      "\n",
      "    accuracy                           1.00     93987\n",
      "   macro avg       0.98      0.79      0.86     93987\n",
      "weighted avg       1.00      1.00      1.00     93987\n",
      "\n"
     ]
    }
   ],
   "source": [
    "print(cm)\n",
    "print('\\n')\n",
    "print(cm_train)\n",
    "print(c_report)"
   ]
  },
  {
   "cell_type": "code",
   "execution_count": 46,
   "id": "f4724609",
   "metadata": {},
   "outputs": [],
   "source": [
    "# confusion matrix for knn model testing evaluation\n",
    "import itertools\n",
    "\n",
    "def plot_confusion_mat(cm, classes, normalize=False, title='<-Confusion Matrix->', cmap=plt.cm.Spectral):\n",
    "    '''This function plots the confusion as either normalized or not normalized\n",
    "    You can set the parameter normalize to True to plot confusion matrix in normalize mode'''\n",
    "    \n",
    "    if normalize:\n",
    "        cm = cm.astype('float') / cm.sum(axis=1)[:, np.newaxis]\n",
    "        print('Confusion Matrix Normalized')\n",
    "    else:\n",
    "        print('Confusion Matrix without Normalization')\n",
    "        \n",
    "    print(cm)\n",
    "    \n",
    "    plt.imshow(cm, interpolation='nearest', cmap=cmap)\n",
    "    plt.title(title)\n",
    "    tick_mark = np.arange(len(classes))\n",
    "    plt.xticks(tick_mark, classes, rotation=45)\n",
    "    plt.yticks(tick_mark, classes)\n",
    "    plt.colorbar()\n",
    "    \n",
    "    fmt = '.2f' if normalize else 'd'\n",
    "    thresh = cm.max()/2\n",
    "    \n",
    "    for i,j in itertools.product(range(cm.shape[0]), range(cm.shape[1])):\n",
    "        plt.text(j,i, format(cm[i,j], fmt),\n",
    "                 horizontalalignment = 'center',\n",
    "                 color = 'white' if thresh > cm[i,j] else 'black')\n",
    "    plt.tight_layout()\n",
    "    plt.xlabel('Predicted Class')\n",
    "    plt.ylabel('True Class')\n",
    "    plt.show()\n",
    "        \n",
    "    "
   ]
  },
  {
   "cell_type": "code",
   "execution_count": 51,
   "id": "51b80128",
   "metadata": {},
   "outputs": [
    {
     "name": "stdout",
     "output_type": "stream",
     "text": [
      "Confusion Matrix without Normalization\n",
      "[[93822     4]\n",
      " [   69    92]]\n"
     ]
    },
    {
     "data": {
      "image/png": "[encoded data removed]",
      "text/plain": [
       "<Figure size 640x480 with 2 Axes>"
      ]
     },
     "metadata": {},
     "output_type": "display_data"
    }
   ],
   "source": [
    "# confusion matrix without normalization for test model evaluation\n",
    "plt.figure\n",
    "plot_confusion_mat(cm, classes=['L=0', 'F=1'])"
   ]
  },
  {
   "cell_type": "code",
   "execution_count": 50,
   "id": "333503ec",
   "metadata": {},
   "outputs": [
    {
     "name": "stdout",
     "output_type": "stream",
     "text": [
      "Confusion Matrix Normalized\n",
      "[[9.99957368e-01 4.26321062e-05]\n",
      " [4.28571429e-01 5.71428571e-01]]\n"
     ]
    },
    {
     "data": {
      "image/png": "[encoded data removed]",
      "text/plain": [
       "<Figure size 640x480 with 2 Axes>"
      ]
     },
     "metadata": {},
     "output_type": "display_data"
    }
   ],
   "source": [
    "# confusion matrix normalized for test model evaluation\n",
    "plt.figure\n",
    "plot_confusion_mat(cm, normalize=True, classes=['L=0', 'F=1'])"
   ]
  },
  {
   "cell_type": "code",
   "execution_count": 49,
   "id": "f3aa54e2",
   "metadata": {},
   "outputs": [
    {
     "name": "stdout",
     "output_type": "stream",
     "text": [
      "Confusion Matrix Normalized\n",
      "[[9.99942254e-01 5.77461166e-05]\n",
      " [3.17220544e-01 6.82779456e-01]]\n"
     ]
    },
    {
     "data": {
      "image/png": "[encoded data removed]",
      "text/plain": [
       "<Figure size 640x480 with 2 Axes>"
      ]
     },
     "metadata": {},
     "output_type": "display_data"
    }
   ],
   "source": [
    "# confusion matrix normalized for train model evaluation\n",
    "plt.figure\n",
    "plot_confusion_mat(cm_train, normalize=True, classes=['L=0', 'F=1'])"
   ]
  },
  {
   "cell_type": "code",
   "execution_count": 52,
   "id": "6eeccee5",
   "metadata": {},
   "outputs": [],
   "source": [
    "# conclusion on KNN model for accuracy and precision\n",
    "# looking at the confusion matrix, the model is able to predict all negative cases {class = 0}\n",
    "# as 0 but predicted only 57% for test data and 68% for train data\n",
    "# this is bad for our model hence further hyperparameter tuning is required for our model to function\n",
    "# well, thus to prevent overfitting of the model."
   ]
  },
  {
   "cell_type": "markdown",
   "id": "95823209",
   "metadata": {},
   "source": [
    "Support Vector Machine Algorithm Classification "
   ]
  },
  {
   "cell_type": "code",
   "execution_count": 53,
   "id": "b40d0af1",
   "metadata": {},
   "outputs": [],
   "source": [
    "# Support Vector Machine employs kerneling; a technique of mapping data to a high-dimensional space\n",
    "# using kernel functions to create a hyperplane as a separator to separate a linearly unseparable data\n",
    "# This hyperplane separates the target into classes which can further be classified by\n",
    "# the decision boundary equation\n",
    "# the output of svm is either a 0 or 1 for a binary classification\n",
    "# or a one-vs-rest approach for multiclass classification\n",
    "# svm does not predict probability for the outputs"
   ]
  },
  {
   "cell_type": "code",
   "execution_count": 66,
   "id": "c976cbe4",
   "metadata": {},
   "outputs": [],
   "source": [
    "# SVM model instant and preprocessing\n",
    "svm_model = LinearSVC(C=0.01, class_weight='balanced', random_state=45, loss='hinge', max_iter=3000)\n",
    "# hyperparameter tuning helps to prevent overfitting"
   ]
  },
  {
   "cell_type": "code",
   "execution_count": 74,
   "id": "a0cb3da7",
   "metadata": {},
   "outputs": [],
   "source": [
    "# features matrix, response vector and preprocessing\n",
    "X = data.iloc[:, 1:30]\n",
    "y = data.iloc[:,30]\n",
    "X = preprocessing.StandardScaler().fit(X).transform(X)\n",
    "X = preprocessing.normalize(X, norm='l1')"
   ]
  },
  {
   "cell_type": "code",
   "execution_count": 75,
   "id": "8599aa7e",
   "metadata": {},
   "outputs": [],
   "source": [
    "# train / test dataset\n",
    "X_train, X_test, y_train, y_test = train_test_split(X,y, test_size=.30, random_state=45)"
   ]
  },
  {
   "cell_type": "code",
   "execution_count": 81,
   "id": "29697388",
   "metadata": {},
   "outputs": [],
   "source": [
    "# train model and evaluate\n",
    "class_w = compute_sample_weight('balanced', y_train)\n",
    "svm_model.fit(X_train, y_train)\n",
    "yhat = svm_model.predict(X_train)"
   ]
  },
  {
   "cell_type": "code",
   "execution_count": 82,
   "id": "707dcd5b",
   "metadata": {},
   "outputs": [
    {
     "data": {
      "text/html": [
       "<div>\n",
       "<style scoped>\n",
       "    .dataframe tbody tr th:only-of-type {\n",
       "        vertical-align: middle;\n",
       "    }\n",
       "\n",
       "    .dataframe tbody tr th {\n",
       "        vertical-align: top;\n",
       "    }\n",
       "\n",
       "    .dataframe thead th {\n",
       "        text-align: right;\n",
       "    }\n",
       "</style>\n",
       "<table border=\"1\" class=\"dataframe\">\n",
       "  <thead>\n",
       "    <tr style=\"text-align: right;\">\n",
       "      <th></th>\n",
       "      <th>Class</th>\n",
       "      <th>predict</th>\n",
       "    </tr>\n",
       "  </thead>\n",
       "  <tbody>\n",
       "    <tr>\n",
       "      <th>158708</th>\n",
       "      <td>0</td>\n",
       "      <td>0</td>\n",
       "    </tr>\n",
       "    <tr>\n",
       "      <th>188612</th>\n",
       "      <td>0</td>\n",
       "      <td>0</td>\n",
       "    </tr>\n",
       "    <tr>\n",
       "      <th>191155</th>\n",
       "      <td>0</td>\n",
       "      <td>0</td>\n",
       "    </tr>\n",
       "    <tr>\n",
       "      <th>203206</th>\n",
       "      <td>0</td>\n",
       "      <td>0</td>\n",
       "    </tr>\n",
       "    <tr>\n",
       "      <th>10913</th>\n",
       "      <td>0</td>\n",
       "      <td>0</td>\n",
       "    </tr>\n",
       "  </tbody>\n",
       "</table>\n",
       "</div>"
      ],
      "text/plain": [
       "        Class  predict\n",
       "158708      0        0\n",
       "188612      0        0\n",
       "191155      0        0\n",
       "203206      0        0\n",
       "10913       0        0"
      ]
     },
     "execution_count": 82,
     "metadata": {},
     "output_type": "execute_result"
    }
   ],
   "source": [
    "train_df = pd.DataFrame(y_train)\n",
    "train_df['predict'] = yhat\n",
    "train_df.head()"
   ]
  },
  {
   "cell_type": "code",
   "execution_count": 85,
   "id": "c1f3020e",
   "metadata": {},
   "outputs": [],
   "source": [
    "# Evaluation of train model\n",
    "from sklearn.metrics import log_loss, jaccard_score\n",
    "train_loss = log_loss(y_train, yhat)\n",
    "train_ja = jaccard_score(y_train, yhat, pos_label=0)"
   ]
  },
  {
   "cell_type": "code",
   "execution_count": 86,
   "id": "6a1f21ec",
   "metadata": {},
   "outputs": [
    {
     "name": "stdout",
     "output_type": "stream",
     "text": [
      "0.8211992326447138 0.9761892801527101\n"
     ]
    }
   ],
   "source": [
    "print(train_loss, train_ja)"
   ]
  },
  {
   "cell_type": "code",
   "execution_count": 87,
   "id": "7569e597",
   "metadata": {},
   "outputs": [],
   "source": [
    "## how does class weight computed affect fitting of model"
   ]
  },
  {
   "cell_type": "code",
   "execution_count": 88,
   "id": "eee39b85",
   "metadata": {},
   "outputs": [
    {
     "data": {
      "text/html": [
       "<div>\n",
       "<style scoped>\n",
       "    .dataframe tbody tr th:only-of-type {\n",
       "        vertical-align: middle;\n",
       "    }\n",
       "\n",
       "    .dataframe tbody tr th {\n",
       "        vertical-align: top;\n",
       "    }\n",
       "\n",
       "    .dataframe thead th {\n",
       "        text-align: right;\n",
       "    }\n",
       "</style>\n",
       "<table border=\"1\" class=\"dataframe\">\n",
       "  <thead>\n",
       "    <tr style=\"text-align: right;\">\n",
       "      <th></th>\n",
       "      <th>Class</th>\n",
       "      <th>predict</th>\n",
       "    </tr>\n",
       "  </thead>\n",
       "  <tbody>\n",
       "    <tr>\n",
       "      <th>11783</th>\n",
       "      <td>0</td>\n",
       "      <td>0</td>\n",
       "    </tr>\n",
       "    <tr>\n",
       "      <th>199531</th>\n",
       "      <td>0</td>\n",
       "      <td>1</td>\n",
       "    </tr>\n",
       "    <tr>\n",
       "      <th>226972</th>\n",
       "      <td>0</td>\n",
       "      <td>0</td>\n",
       "    </tr>\n",
       "    <tr>\n",
       "      <th>229378</th>\n",
       "      <td>0</td>\n",
       "      <td>0</td>\n",
       "    </tr>\n",
       "    <tr>\n",
       "      <th>101019</th>\n",
       "      <td>0</td>\n",
       "      <td>0</td>\n",
       "    </tr>\n",
       "  </tbody>\n",
       "</table>\n",
       "</div>"
      ],
      "text/plain": [
       "        Class  predict\n",
       "11783       0        0\n",
       "199531      0        1\n",
       "226972      0        0\n",
       "229378      0        0\n",
       "101019      0        0"
      ]
     },
     "execution_count": 88,
     "metadata": {},
     "output_type": "execute_result"
    }
   ],
   "source": [
    "# Evaluation of test model\n",
    "yhat_test = svm_model.predict(X_test)\n",
    "test_df = pd.DataFrame(y_test)\n",
    "test_df['predict'] = yhat_test\n",
    "test_df.head()"
   ]
  },
  {
   "cell_type": "code",
   "execution_count": 89,
   "id": "0389f9ae",
   "metadata": {},
   "outputs": [
    {
     "name": "stdout",
     "output_type": "stream",
     "text": [
      "[Test Evaluation Score]: Logloss 0.84, Jaccard Index 0.84\n"
     ]
    }
   ],
   "source": [
    "test_loss = log_loss(y_test, yhat_test)\n",
    "test_ja = jaccard_score(y_test, yhat_test, pos_label=0)\n",
    "print('[Test Evaluation Score]: Logloss {0:.2f}, Jaccard Index {0:.2f}'.format(test_loss, test_ja))"
   ]
  },
  {
   "cell_type": "code",
   "execution_count": 92,
   "id": "5cc97be9",
   "metadata": {},
   "outputs": [
    {
     "name": "stdout",
     "output_type": "stream",
     "text": [
      "[[83224  2054]\n",
      " [   14   151]]\n"
     ]
    }
   ],
   "source": [
    "# Confusion matrix for SVM test model evaluation\n",
    "cm_svm = confusion_matrix(y_test, yhat_test, labels=[0,1])\n",
    "print(cm_svm)"
   ]
  },
  {
   "cell_type": "code",
   "execution_count": 93,
   "id": "bd307314",
   "metadata": {},
   "outputs": [
    {
     "name": "stdout",
     "output_type": "stream",
     "text": [
      "Confusion Matrix without Normalization\n",
      "[[83224  2054]\n",
      " [   14   151]]\n"
     ]
    },
    {
     "data": {
      "image/png": "[encoded data removed]",
      "text/plain": [
       "<Figure size 640x480 with 2 Axes>"
      ]
     },
     "metadata": {},
     "output_type": "display_data"
    }
   ],
   "source": [
    "# confusion matrix normalized for test model evaluation\n",
    "plt.figure\n",
    "plot_confusion_mat(cm_svm, classes=['L=0', 'F=1'])"
   ]
  },
  {
   "cell_type": "code",
   "execution_count": 91,
   "id": "4380834d",
   "metadata": {},
   "outputs": [
    {
     "name": "stdout",
     "output_type": "stream",
     "text": [
      "Confusion Matrix Normalized\n",
      "[[0.97591407 0.02408593]\n",
      " [0.08484848 0.91515152]]\n"
     ]
    },
    {
     "data": {
      "image/png": "[encoded data removed]",
      "text/plain": [
       "<Figure size 640x480 with 2 Axes>"
      ]
     },
     "metadata": {},
     "output_type": "display_data"
    }
   ],
   "source": [
    "# confusion matrix normalized for test model evaluation\n",
    "plt.figure\n",
    "plot_confusion_mat(cm_svm, normalize=True, classes=['L=0', 'F=1'])"
   ]
  },
  {
   "cell_type": "code",
   "execution_count": 94,
   "id": "8e4539bb",
   "metadata": {},
   "outputs": [],
   "source": [
    "# Conclusion on SVM model\n",
    "# interpreting the confusion matrix:\n",
    "# our svm model did better than knn, and this is because of the standardisation and hyperparameters \n",
    "# applied to the fitting the model\n",
    "# svm_model predicted 98% of class 0, L=0 as true and 92% of class 1, F=1 as true\n",
    "# compare to knn_model's ~1.0% and 68% respectively"
   ]
  },
  {
   "cell_type": "markdown",
   "id": "7a0a5623",
   "metadata": {},
   "source": [
    "End of Classification Project\n",
    "\n",
    "In this particular project, I obtained creditcard transaction of a certain bank\n",
    "\n",
    "From Kaggle.com to train SVM and KNN models to predict which transactions are legitimate or Fraudulent\n",
    "\n",
    "By Blibo Albert @bliboalbert <- github && LinkedIn"
   ]
  },
  {
   "cell_type": "code",
   "execution_count": null,
   "id": "f0da1ee2",
   "metadata": {},
   "outputs": [],
   "source": []
  }
 ],
 "metadata": {
  "kernelspec": {
   "display_name": "Python 3 (ipykernel)",
   "language": "python",
   "name": "python3"
  },
  "language_info": {
   "codemirror_mode": {
    "name": "ipython",
    "version": 3
   },
   "file_extension": ".py",
   "mimetype": "text/x-python",
   "name": "python",
   "nbconvert_exporter": "python",
   "pygments_lexer": "ipython3",
   "version": "3.9.13"
  }
 },
 "nbformat": 4,
 "nbformat_minor": 5
}
