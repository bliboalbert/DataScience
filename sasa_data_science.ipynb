{
 "cells": [
  {
   "cell_type": "markdown",
   "id": "0cfc1c1b",
   "metadata": {},
   "source": [
    "Most of the datasets about ImDb Review on Kaggle were pre-processed for machine learning. This made it difficult to get a dataset for descriptive analysis."
   ]
  },
  {
   "cell_type": "code",
   "execution_count": 1,
   "id": "c46a179c",
   "metadata": {},
   "outputs": [],
   "source": [
    "# import relevant libraries"
   ]
  },
  {
   "cell_type": "code",
   "execution_count": 71,
   "id": "fd61a9ea",
   "metadata": {},
   "outputs": [],
   "source": [
    "import pandas as pd \n",
    "from matplotlib import pyplot as plt\n",
    "import seaborn as sns\n",
    "import pathlib"
   ]
  },
  {
   "cell_type": "code",
   "execution_count": 72,
   "id": "fa94688b",
   "metadata": {},
   "outputs": [],
   "source": [
    "# read .csv file for analysis"
   ]
  },
  {
   "cell_type": "code",
   "execution_count": 73,
   "id": "acfbb8c0",
   "metadata": {},
   "outputs": [],
   "source": [
    "file_path = pathlib.Path('../Saa/review/data.csv')"
   ]
  },
  {
   "cell_type": "code",
   "execution_count": 74,
   "id": "7908a0cf",
   "metadata": {},
   "outputs": [],
   "source": [
    "data_df = pd.read_csv(file_path)"
   ]
  },
  {
   "cell_type": "code",
   "execution_count": 75,
   "id": "120eb1f2",
   "metadata": {},
   "outputs": [],
   "source": [
    "# view dataframe object -- 1st ten rows"
   ]
  },
  {
   "cell_type": "code",
   "execution_count": 76,
   "id": "4aa20101",
   "metadata": {},
   "outputs": [],
   "source": [
    "#data_df.head(10)"
   ]
  },
  {
   "cell_type": "code",
   "execution_count": 77,
   "id": "9ea9c8f6",
   "metadata": {},
   "outputs": [],
   "source": [
    "# create a filter table of relevant data features: movie_name, reviews and ratings/stars"
   ]
  },
  {
   "cell_type": "code",
   "execution_count": 78,
   "id": "67f738c8",
   "metadata": {},
   "outputs": [],
   "source": [
    "data_df_filtered = data_df[['Movie_N', 'Stars', 'Review']]"
   ]
  },
  {
   "cell_type": "code",
   "execution_count": 79,
   "id": "dc00a86d",
   "metadata": {},
   "outputs": [
    {
     "data": {
      "text/html": [
       "<div>\n",
       "<style scoped>\n",
       "    .dataframe tbody tr th:only-of-type {\n",
       "        vertical-align: middle;\n",
       "    }\n",
       "\n",
       "    .dataframe tbody tr th {\n",
       "        vertical-align: top;\n",
       "    }\n",
       "\n",
       "    .dataframe thead th {\n",
       "        text-align: right;\n",
       "    }\n",
       "</style>\n",
       "<table border=\"1\" class=\"dataframe\">\n",
       "  <thead>\n",
       "    <tr style=\"text-align: right;\">\n",
       "      <th></th>\n",
       "      <th>Movie_N</th>\n",
       "      <th>Stars</th>\n",
       "      <th>Review</th>\n",
       "    </tr>\n",
       "  </thead>\n",
       "  <tbody>\n",
       "    <tr>\n",
       "      <th>0</th>\n",
       "      <td>The Old Guard</td>\n",
       "      <td>7</td>\n",
       "      <td>Love the concept, execution is not bad (there ...</td>\n",
       "    </tr>\n",
       "    <tr>\n",
       "      <th>1</th>\n",
       "      <td>The Old Guard</td>\n",
       "      <td>5</td>\n",
       "      <td>There were just so many clichés, cringe, and n...</td>\n",
       "    </tr>\n",
       "    <tr>\n",
       "      <th>2</th>\n",
       "      <td>The Old Guard</td>\n",
       "      <td>5</td>\n",
       "      <td>The actors are all good. Well that's it. The s...</td>\n",
       "    </tr>\n",
       "    <tr>\n",
       "      <th>3</th>\n",
       "      <td>The Old Guard</td>\n",
       "      <td>9</td>\n",
       "      <td>My mind kept referring back to Austin Powers. ...</td>\n",
       "    </tr>\n",
       "    <tr>\n",
       "      <th>4</th>\n",
       "      <td>The Old Guard</td>\n",
       "      <td>5</td>\n",
       "      <td>The London scenes at the end were just bizarre...</td>\n",
       "    </tr>\n",
       "    <tr>\n",
       "      <th>...</th>\n",
       "      <td>...</td>\n",
       "      <td>...</td>\n",
       "      <td>...</td>\n",
       "    </tr>\n",
       "    <tr>\n",
       "      <th>5676</th>\n",
       "      <td>Greyhound</td>\n",
       "      <td>5</td>\n",
       "      <td>My only complaint is that the movie could have...</td>\n",
       "    </tr>\n",
       "    <tr>\n",
       "      <th>5677</th>\n",
       "      <td>Greyhound</td>\n",
       "      <td>8</td>\n",
       "      <td>Though the movie might have been right on tech...</td>\n",
       "    </tr>\n",
       "    <tr>\n",
       "      <th>5678</th>\n",
       "      <td>Greyhound</td>\n",
       "      <td>1</td>\n",
       "      <td>I felt the movie could have been longer with a...</td>\n",
       "    </tr>\n",
       "    <tr>\n",
       "      <th>5679</th>\n",
       "      <td>Greyhound</td>\n",
       "      <td>9</td>\n",
       "      <td>The climax (if any) was not up to the mark</td>\n",
       "    </tr>\n",
       "    <tr>\n",
       "      <th>5680</th>\n",
       "      <td>Greyhound</td>\n",
       "      <td>5</td>\n",
       "      <td>U571 and Das Boot had done a better job long t...</td>\n",
       "    </tr>\n",
       "  </tbody>\n",
       "</table>\n",
       "<p>5681 rows × 3 columns</p>\n",
       "</div>"
      ],
      "text/plain": [
       "            Movie_N  Stars                                             Review\n",
       "0     The Old Guard      7  Love the concept, execution is not bad (there ...\n",
       "1     The Old Guard      5  There were just so many clichés, cringe, and n...\n",
       "2     The Old Guard      5  The actors are all good. Well that's it. The s...\n",
       "3     The Old Guard      9  My mind kept referring back to Austin Powers. ...\n",
       "4     The Old Guard      5  The London scenes at the end were just bizarre...\n",
       "...             ...    ...                                                ...\n",
       "5676      Greyhound      5  My only complaint is that the movie could have...\n",
       "5677      Greyhound      8  Though the movie might have been right on tech...\n",
       "5678      Greyhound      1  I felt the movie could have been longer with a...\n",
       "5679      Greyhound      9         The climax (if any) was not up to the mark\n",
       "5680      Greyhound      5  U571 and Das Boot had done a better job long t...\n",
       "\n",
       "[5681 rows x 3 columns]"
      ]
     },
     "execution_count": 79,
     "metadata": {},
     "output_type": "execute_result"
    }
   ],
   "source": [
    "data_df_filtered"
   ]
  },
  {
   "cell_type": "code",
   "execution_count": 88,
   "id": "b46c8482",
   "metadata": {},
   "outputs": [],
   "source": [
    "# choosing 10 as the highest rating\n",
    "data_df_high = data_df_filtered[data_df_filtered.Stars == 10]"
   ]
  },
  {
   "cell_type": "code",
   "execution_count": 89,
   "id": "3db24044",
   "metadata": {},
   "outputs": [
    {
     "data": {
      "text/html": [
       "<div>\n",
       "<style scoped>\n",
       "    .dataframe tbody tr th:only-of-type {\n",
       "        vertical-align: middle;\n",
       "    }\n",
       "\n",
       "    .dataframe tbody tr th {\n",
       "        vertical-align: top;\n",
       "    }\n",
       "\n",
       "    .dataframe thead th {\n",
       "        text-align: right;\n",
       "    }\n",
       "</style>\n",
       "<table border=\"1\" class=\"dataframe\">\n",
       "  <thead>\n",
       "    <tr style=\"text-align: right;\">\n",
       "      <th></th>\n",
       "      <th>Movie_N</th>\n",
       "      <th>Stars</th>\n",
       "      <th>Review</th>\n",
       "    </tr>\n",
       "  </thead>\n",
       "  <tbody>\n",
       "    <tr>\n",
       "      <th>18</th>\n",
       "      <td>The Old Guard</td>\n",
       "      <td>10</td>\n",
       "      <td>Why why why so many haters?! First thing I tho...</td>\n",
       "    </tr>\n",
       "    <tr>\n",
       "      <th>42</th>\n",
       "      <td>The Kissing Booth</td>\n",
       "      <td>10</td>\n",
       "      <td>This is not a old people's movie. The adventur...</td>\n",
       "    </tr>\n",
       "    <tr>\n",
       "      <th>43</th>\n",
       "      <td>The Kissing Booth</td>\n",
       "      <td>10</td>\n",
       "      <td>I can't say that i did not enjoy this film. It...</td>\n",
       "    </tr>\n",
       "    <tr>\n",
       "      <th>50</th>\n",
       "      <td>Clueless</td>\n",
       "      <td>10</td>\n",
       "      <td>When romantic high-school comedy Clueless (199...</td>\n",
       "    </tr>\n",
       "    <tr>\n",
       "      <th>68</th>\n",
       "      <td>Three Billboards Outside Ebbing, Missouri</td>\n",
       "      <td>10</td>\n",
       "      <td>\"Three Billboards outside Ebbing, Missouri\" ma...</td>\n",
       "    </tr>\n",
       "    <tr>\n",
       "      <th>...</th>\n",
       "      <td>...</td>\n",
       "      <td>...</td>\n",
       "      <td>...</td>\n",
       "    </tr>\n",
       "    <tr>\n",
       "      <th>5579</th>\n",
       "      <td>The Kissing Booth 2</td>\n",
       "      <td>10</td>\n",
       "      <td>I wasn't sure if I was going to like this one....</td>\n",
       "    </tr>\n",
       "    <tr>\n",
       "      <th>5587</th>\n",
       "      <td>Knives Out</td>\n",
       "      <td>10</td>\n",
       "      <td>Daniel Craig is downright terrific as Benoit B...</td>\n",
       "    </tr>\n",
       "    <tr>\n",
       "      <th>5615</th>\n",
       "      <td>Palm Springs</td>\n",
       "      <td>10</td>\n",
       "      <td>This is a greatly enjoyable and fun movie, tha...</td>\n",
       "    </tr>\n",
       "    <tr>\n",
       "      <th>5643</th>\n",
       "      <td>Extraction</td>\n",
       "      <td>10</td>\n",
       "      <td>The action scenes are great, and some of the c...</td>\n",
       "    </tr>\n",
       "    <tr>\n",
       "      <th>5666</th>\n",
       "      <td>Greyhound</td>\n",
       "      <td>10</td>\n",
       "      <td>Honestly, I decided to write a review to count...</td>\n",
       "    </tr>\n",
       "  </tbody>\n",
       "</table>\n",
       "<p>1677 rows × 3 columns</p>\n",
       "</div>"
      ],
      "text/plain": [
       "                                        Movie_N  Stars  \\\n",
       "18                                The Old Guard     10   \n",
       "42                            The Kissing Booth     10   \n",
       "43                            The Kissing Booth     10   \n",
       "50                                     Clueless     10   \n",
       "68    Three Billboards Outside Ebbing, Missouri     10   \n",
       "...                                         ...    ...   \n",
       "5579                        The Kissing Booth 2     10   \n",
       "5587                                 Knives Out     10   \n",
       "5615                               Palm Springs     10   \n",
       "5643                                 Extraction     10   \n",
       "5666                                  Greyhound     10   \n",
       "\n",
       "                                                 Review  \n",
       "18    Why why why so many haters?! First thing I tho...  \n",
       "42    This is not a old people's movie. The adventur...  \n",
       "43    I can't say that i did not enjoy this film. It...  \n",
       "50    When romantic high-school comedy Clueless (199...  \n",
       "68    \"Three Billboards outside Ebbing, Missouri\" ma...  \n",
       "...                                                 ...  \n",
       "5579  I wasn't sure if I was going to like this one....  \n",
       "5587  Daniel Craig is downright terrific as Benoit B...  \n",
       "5615  This is a greatly enjoyable and fun movie, tha...  \n",
       "5643  The action scenes are great, and some of the c...  \n",
       "5666  Honestly, I decided to write a review to count...  \n",
       "\n",
       "[1677 rows x 3 columns]"
      ]
     },
     "execution_count": 89,
     "metadata": {},
     "output_type": "execute_result"
    }
   ],
   "source": [
    "data_df_high"
   ]
  },
  {
   "cell_type": "code",
   "execution_count": 90,
   "id": "f5a30d1c",
   "metadata": {},
   "outputs": [
    {
     "data": {
      "text/plain": [
       "Movie_N    1677\n",
       "Stars      1677\n",
       "Review     1677\n",
       "dtype: int64"
      ]
     },
     "execution_count": 90,
     "metadata": {},
     "output_type": "execute_result"
    }
   ],
   "source": [
    "data_df_high.count()"
   ]
  },
  {
   "cell_type": "code",
   "execution_count": 96,
   "id": "024eb789",
   "metadata": {},
   "outputs": [],
   "source": [
    "# using a small sample for visualization - unbiased\n",
    "small_high_df = data_df_high.sample(frac=.01)"
   ]
  },
  {
   "cell_type": "code",
   "execution_count": 97,
   "id": "290e10aa",
   "metadata": {},
   "outputs": [
    {
     "data": {
      "text/html": [
       "<div>\n",
       "<style scoped>\n",
       "    .dataframe tbody tr th:only-of-type {\n",
       "        vertical-align: middle;\n",
       "    }\n",
       "\n",
       "    .dataframe tbody tr th {\n",
       "        vertical-align: top;\n",
       "    }\n",
       "\n",
       "    .dataframe thead th {\n",
       "        text-align: right;\n",
       "    }\n",
       "</style>\n",
       "<table border=\"1\" class=\"dataframe\">\n",
       "  <thead>\n",
       "    <tr style=\"text-align: right;\">\n",
       "      <th></th>\n",
       "      <th>Movie_N</th>\n",
       "      <th>Stars</th>\n",
       "      <th>Review</th>\n",
       "    </tr>\n",
       "  </thead>\n",
       "  <tbody>\n",
       "    <tr>\n",
       "      <th>3468</th>\n",
       "      <td>The Departed</td>\n",
       "      <td>10</td>\n",
       "      <td>This is one of the most entertaining and suspe...</td>\n",
       "    </tr>\n",
       "    <tr>\n",
       "      <th>3313</th>\n",
       "      <td>The Prestige</td>\n",
       "      <td>10</td>\n",
       "      <td>I won't say it's an underrated movie, but it h...</td>\n",
       "    </tr>\n",
       "    <tr>\n",
       "      <th>5351</th>\n",
       "      <td>The Godfather</td>\n",
       "      <td>10</td>\n",
       "      <td>This is one of those films that made me wonder...</td>\n",
       "    </tr>\n",
       "    <tr>\n",
       "      <th>2412</th>\n",
       "      <td>Léon: The Professional</td>\n",
       "      <td>10</td>\n",
       "      <td>We need a follow-up to the original and intrig...</td>\n",
       "    </tr>\n",
       "    <tr>\n",
       "      <th>550</th>\n",
       "      <td>Yesterday</td>\n",
       "      <td>10</td>\n",
       "      <td>Story-wise, 'Yesterday' captures the feel-good...</td>\n",
       "    </tr>\n",
       "    <tr>\n",
       "      <th>479</th>\n",
       "      <td>A Clockwork Orange</td>\n",
       "      <td>10</td>\n",
       "      <td>Is this the world's most stylish and interesti...</td>\n",
       "    </tr>\n",
       "    <tr>\n",
       "      <th>4407</th>\n",
       "      <td>The Lord of the Rings: The Fellowship of the Ring</td>\n",
       "      <td>10</td>\n",
       "      <td>Breathtaking.  Unique.  Captivating.  Enchanting.</td>\n",
       "    </tr>\n",
       "    <tr>\n",
       "      <th>4022</th>\n",
       "      <td>Platoon</td>\n",
       "      <td>10</td>\n",
       "      <td>Those of us who did make it have an obligation...</td>\n",
       "    </tr>\n",
       "    <tr>\n",
       "      <th>5341</th>\n",
       "      <td>Interstellar</td>\n",
       "      <td>10</td>\n",
       "      <td>And finally, the scenario/story. I won't spoil...</td>\n",
       "    </tr>\n",
       "    <tr>\n",
       "      <th>408</th>\n",
       "      <td>The Twilight Saga: Breaking Dawn - Part 2</td>\n",
       "      <td>10</td>\n",
       "      <td>I am planning to buy the DVD so that I can wat...</td>\n",
       "    </tr>\n",
       "    <tr>\n",
       "      <th>3846</th>\n",
       "      <td>The Goonies</td>\n",
       "      <td>10</td>\n",
       "      <td>Just prior to graduating with a degree in Film...</td>\n",
       "    </tr>\n",
       "    <tr>\n",
       "      <th>1738</th>\n",
       "      <td>The Truman Show</td>\n",
       "      <td>10</td>\n",
       "      <td>If we go further, we must ask ourselves, what ...</td>\n",
       "    </tr>\n",
       "    <tr>\n",
       "      <th>2439</th>\n",
       "      <td>Heat</td>\n",
       "      <td>10</td>\n",
       "      <td>Sound like a bold statement? Devotees of class...</td>\n",
       "    </tr>\n",
       "    <tr>\n",
       "      <th>3023</th>\n",
       "      <td>The Big Lebowski</td>\n",
       "      <td>10</td>\n",
       "      <td>The story is actually kind of simple. You see,...</td>\n",
       "    </tr>\n",
       "    <tr>\n",
       "      <th>2636</th>\n",
       "      <td>The Notebook</td>\n",
       "      <td>10</td>\n",
       "      <td>Best known for his acting credits, Nick Cassav...</td>\n",
       "    </tr>\n",
       "    <tr>\n",
       "      <th>4718</th>\n",
       "      <td>The Green Mile</td>\n",
       "      <td>10</td>\n",
       "      <td>\"The Green Mile\" is one of my favorite Stephen...</td>\n",
       "    </tr>\n",
       "    <tr>\n",
       "      <th>3513</th>\n",
       "      <td>Django Unchained</td>\n",
       "      <td>10</td>\n",
       "      <td>The film threatens to go totally off the rails...</td>\n",
       "    </tr>\n",
       "  </tbody>\n",
       "</table>\n",
       "</div>"
      ],
      "text/plain": [
       "                                                Movie_N  Stars  \\\n",
       "3468                                       The Departed     10   \n",
       "3313                                       The Prestige     10   \n",
       "5351                                      The Godfather     10   \n",
       "2412                             Léon: The Professional     10   \n",
       "550                                           Yesterday     10   \n",
       "479                                  A Clockwork Orange     10   \n",
       "4407  The Lord of the Rings: The Fellowship of the Ring     10   \n",
       "4022                                            Platoon     10   \n",
       "5341                                       Interstellar     10   \n",
       "408           The Twilight Saga: Breaking Dawn - Part 2     10   \n",
       "3846                                        The Goonies     10   \n",
       "1738                                    The Truman Show     10   \n",
       "2439                                               Heat     10   \n",
       "3023                                   The Big Lebowski     10   \n",
       "2636                                       The Notebook     10   \n",
       "4718                                     The Green Mile     10   \n",
       "3513                                   Django Unchained     10   \n",
       "\n",
       "                                                 Review  \n",
       "3468  This is one of the most entertaining and suspe...  \n",
       "3313  I won't say it's an underrated movie, but it h...  \n",
       "5351  This is one of those films that made me wonder...  \n",
       "2412  We need a follow-up to the original and intrig...  \n",
       "550   Story-wise, 'Yesterday' captures the feel-good...  \n",
       "479   Is this the world's most stylish and interesti...  \n",
       "4407  Breathtaking.  Unique.  Captivating.  Enchanting.  \n",
       "4022  Those of us who did make it have an obligation...  \n",
       "5341  And finally, the scenario/story. I won't spoil...  \n",
       "408   I am planning to buy the DVD so that I can wat...  \n",
       "3846  Just prior to graduating with a degree in Film...  \n",
       "1738  If we go further, we must ask ourselves, what ...  \n",
       "2439  Sound like a bold statement? Devotees of class...  \n",
       "3023  The story is actually kind of simple. You see,...  \n",
       "2636  Best known for his acting credits, Nick Cassav...  \n",
       "4718  \"The Green Mile\" is one of my favorite Stephen...  \n",
       "3513  The film threatens to go totally off the rails...  "
      ]
     },
     "execution_count": 97,
     "metadata": {},
     "output_type": "execute_result"
    }
   ],
   "source": [
    "small_high_df"
   ]
  },
  {
   "cell_type": "code",
   "execution_count": 101,
   "id": "b280d8cd",
   "metadata": {},
   "outputs": [
    {
     "data": {
      "image/png": "[encoded data removed]",
      "text/plain": [
       "<Figure size 432x288 with 1 Axes>"
      ]
     },
     "metadata": {
      "needs_background": "light"
     },
     "output_type": "display_data"
    }
   ],
   "source": [
    "# plot of small_high_df\n",
    "sns.barplot(x='Stars', data=small_high_df, y='Movie_N', orient='h')\n",
    "plt.title('Highest Movie Rating from Data Sample')\n",
    "plt.show()"
   ]
  },
  {
   "cell_type": "code",
   "execution_count": 91,
   "id": "8afe827c",
   "metadata": {},
   "outputs": [],
   "source": [
    "# choosing 1 as the lowest rating\n",
    "data_df_low = data_df_filtered[data_df_filtered.Stars == 1]"
   ]
  },
  {
   "cell_type": "code",
   "execution_count": null,
   "id": "5493a81b",
   "metadata": {},
   "outputs": [],
   "source": []
  },
  {
   "cell_type": "code",
   "execution_count": 92,
   "id": "7f89374f",
   "metadata": {},
   "outputs": [
    {
     "data": {
      "text/html": [
       "<div>\n",
       "<style scoped>\n",
       "    .dataframe tbody tr th:only-of-type {\n",
       "        vertical-align: middle;\n",
       "    }\n",
       "\n",
       "    .dataframe tbody tr th {\n",
       "        vertical-align: top;\n",
       "    }\n",
       "\n",
       "    .dataframe thead th {\n",
       "        text-align: right;\n",
       "    }\n",
       "</style>\n",
       "<table border=\"1\" class=\"dataframe\">\n",
       "  <thead>\n",
       "    <tr style=\"text-align: right;\">\n",
       "      <th></th>\n",
       "      <th>Movie_N</th>\n",
       "      <th>Stars</th>\n",
       "      <th>Review</th>\n",
       "    </tr>\n",
       "  </thead>\n",
       "  <tbody>\n",
       "    <tr>\n",
       "      <th>16</th>\n",
       "      <td>The Old Guard</td>\n",
       "      <td>1</td>\n",
       "      <td>I was hoping for a more layered villain, just ...</td>\n",
       "    </tr>\n",
       "    <tr>\n",
       "      <th>21</th>\n",
       "      <td>The Old Guard</td>\n",
       "      <td>1</td>\n",
       "      <td>The cinematography n editing r top notch. Ther...</td>\n",
       "    </tr>\n",
       "    <tr>\n",
       "      <th>37</th>\n",
       "      <td>The Kissing Booth</td>\n",
       "      <td>1</td>\n",
       "      <td>This wasfun to watch. The setting is fun and o...</td>\n",
       "    </tr>\n",
       "    <tr>\n",
       "      <th>41</th>\n",
       "      <td>The Kissing Booth</td>\n",
       "      <td>1</td>\n",
       "      <td>SPOILER: Yes, at first glance the movie is jus...</td>\n",
       "    </tr>\n",
       "    <tr>\n",
       "      <th>126</th>\n",
       "      <td>Relic</td>\n",
       "      <td>1</td>\n",
       "      <td>My retrospective on this one: sometimes you ha...</td>\n",
       "    </tr>\n",
       "    <tr>\n",
       "      <th>...</th>\n",
       "      <td>...</td>\n",
       "      <td>...</td>\n",
       "      <td>...</td>\n",
       "    </tr>\n",
       "    <tr>\n",
       "      <th>5567</th>\n",
       "      <td>The Kissing Booth 2</td>\n",
       "      <td>1</td>\n",
       "      <td>The plot was meh. The love triangle or square ...</td>\n",
       "    </tr>\n",
       "    <tr>\n",
       "      <th>5569</th>\n",
       "      <td>The Kissing Booth 2</td>\n",
       "      <td>1</td>\n",
       "      <td>The script was terrible, it was a waste of tim...</td>\n",
       "    </tr>\n",
       "    <tr>\n",
       "      <th>5580</th>\n",
       "      <td>The Kissing Booth 2</td>\n",
       "      <td>1</td>\n",
       "      <td>I didn't like the first one very much, but wat...</td>\n",
       "    </tr>\n",
       "    <tr>\n",
       "      <th>5674</th>\n",
       "      <td>Greyhound</td>\n",
       "      <td>1</td>\n",
       "      <td>Still, if you are a fan of WWII movies I sugge...</td>\n",
       "    </tr>\n",
       "    <tr>\n",
       "      <th>5678</th>\n",
       "      <td>Greyhound</td>\n",
       "      <td>1</td>\n",
       "      <td>I felt the movie could have been longer with a...</td>\n",
       "    </tr>\n",
       "  </tbody>\n",
       "</table>\n",
       "<p>845 rows × 3 columns</p>\n",
       "</div>"
      ],
      "text/plain": [
       "                  Movie_N  Stars  \\\n",
       "16          The Old Guard      1   \n",
       "21          The Old Guard      1   \n",
       "37      The Kissing Booth      1   \n",
       "41      The Kissing Booth      1   \n",
       "126                 Relic      1   \n",
       "...                   ...    ...   \n",
       "5567  The Kissing Booth 2      1   \n",
       "5569  The Kissing Booth 2      1   \n",
       "5580  The Kissing Booth 2      1   \n",
       "5674            Greyhound      1   \n",
       "5678            Greyhound      1   \n",
       "\n",
       "                                                 Review  \n",
       "16    I was hoping for a more layered villain, just ...  \n",
       "21    The cinematography n editing r top notch. Ther...  \n",
       "37    This wasfun to watch. The setting is fun and o...  \n",
       "41    SPOILER: Yes, at first glance the movie is jus...  \n",
       "126   My retrospective on this one: sometimes you ha...  \n",
       "...                                                 ...  \n",
       "5567  The plot was meh. The love triangle or square ...  \n",
       "5569  The script was terrible, it was a waste of tim...  \n",
       "5580  I didn't like the first one very much, but wat...  \n",
       "5674  Still, if you are a fan of WWII movies I sugge...  \n",
       "5678  I felt the movie could have been longer with a...  \n",
       "\n",
       "[845 rows x 3 columns]"
      ]
     },
     "execution_count": 92,
     "metadata": {},
     "output_type": "execute_result"
    }
   ],
   "source": [
    "data_df_low"
   ]
  },
  {
   "cell_type": "code",
   "execution_count": 93,
   "id": "9fe601a6",
   "metadata": {},
   "outputs": [
    {
     "data": {
      "text/plain": [
       "Movie_N    845\n",
       "Stars      845\n",
       "Review     845\n",
       "dtype: int64"
      ]
     },
     "execution_count": 93,
     "metadata": {},
     "output_type": "execute_result"
    }
   ],
   "source": [
    "data_df_low.count()"
   ]
  },
  {
   "cell_type": "code",
   "execution_count": 107,
   "id": "1a1f4274",
   "metadata": {},
   "outputs": [],
   "source": [
    "# using a small sample for visualization - unbiased\n",
    "small_low_df = data_df_low.sample(frac=.02)"
   ]
  },
  {
   "cell_type": "code",
   "execution_count": 108,
   "id": "0892d0e6",
   "metadata": {},
   "outputs": [
    {
     "data": {
      "text/html": [
       "<div>\n",
       "<style scoped>\n",
       "    .dataframe tbody tr th:only-of-type {\n",
       "        vertical-align: middle;\n",
       "    }\n",
       "\n",
       "    .dataframe tbody tr th {\n",
       "        vertical-align: top;\n",
       "    }\n",
       "\n",
       "    .dataframe thead th {\n",
       "        text-align: right;\n",
       "    }\n",
       "</style>\n",
       "<table border=\"1\" class=\"dataframe\">\n",
       "  <thead>\n",
       "    <tr style=\"text-align: right;\">\n",
       "      <th></th>\n",
       "      <th>Movie_N</th>\n",
       "      <th>Stars</th>\n",
       "      <th>Review</th>\n",
       "    </tr>\n",
       "  </thead>\n",
       "  <tbody>\n",
       "    <tr>\n",
       "      <th>148</th>\n",
       "      <td>The F**k-It List</td>\n",
       "      <td>1</td>\n",
       "      <td>What an interesting time to release this movie...</td>\n",
       "    </tr>\n",
       "    <tr>\n",
       "      <th>3701</th>\n",
       "      <td>The Lion King</td>\n",
       "      <td>1</td>\n",
       "      <td>Missed important scenes from the first movie l...</td>\n",
       "    </tr>\n",
       "    <tr>\n",
       "      <th>1929</th>\n",
       "      <td>The Vast of Night</td>\n",
       "      <td>1</td>\n",
       "      <td>\"The Vast of Night\" was recently purchased by ...</td>\n",
       "    </tr>\n",
       "    <tr>\n",
       "      <th>3527</th>\n",
       "      <td>Django Unchained</td>\n",
       "      <td>1</td>\n",
       "      <td>The only gripe here was that this film was a l...</td>\n",
       "    </tr>\n",
       "    <tr>\n",
       "      <th>2721</th>\n",
       "      <td>Solo: A Star Wars Story</td>\n",
       "      <td>1</td>\n",
       "      <td>Moreover, the story really doesn't aim to tel...</td>\n",
       "    </tr>\n",
       "    <tr>\n",
       "      <th>4300</th>\n",
       "      <td>The Dark Knight Rises</td>\n",
       "      <td>1</td>\n",
       "      <td>At a running time of almost 3 hours, the film ...</td>\n",
       "    </tr>\n",
       "    <tr>\n",
       "      <th>3798</th>\n",
       "      <td>Artemis Fowl</td>\n",
       "      <td>1</td>\n",
       "      <td>Holly is wrecked. Root is wrecked. Foaley is n...</td>\n",
       "    </tr>\n",
       "    <tr>\n",
       "      <th>2917</th>\n",
       "      <td>Da 5 Bloods</td>\n",
       "      <td>1</td>\n",
       "      <td>This film is an absolute mess. It starts out w...</td>\n",
       "    </tr>\n",
       "    <tr>\n",
       "      <th>2956</th>\n",
       "      <td>No Country for Old Men</td>\n",
       "      <td>1</td>\n",
       "      <td>Overall casting and acting are impressive. I e...</td>\n",
       "    </tr>\n",
       "    <tr>\n",
       "      <th>3746</th>\n",
       "      <td>Gone Girl</td>\n",
       "      <td>1</td>\n",
       "      <td>And it only gets better from there.</td>\n",
       "    </tr>\n",
       "    <tr>\n",
       "      <th>4171</th>\n",
       "      <td>Bad Boys for Life</td>\n",
       "      <td>1</td>\n",
       "      <td>I love these films and this is nowhere close t...</td>\n",
       "    </tr>\n",
       "    <tr>\n",
       "      <th>3246</th>\n",
       "      <td>Deadpool</td>\n",
       "      <td>1</td>\n",
       "      <td>Sitting in the cinema, the inner critic in me ...</td>\n",
       "    </tr>\n",
       "    <tr>\n",
       "      <th>5674</th>\n",
       "      <td>Greyhound</td>\n",
       "      <td>1</td>\n",
       "      <td>Still, if you are a fan of WWII movies I sugge...</td>\n",
       "    </tr>\n",
       "    <tr>\n",
       "      <th>1827</th>\n",
       "      <td>X-Men: Dark Phoenix</td>\n",
       "      <td>1</td>\n",
       "      <td>If it wasn't for James McAvoy and Michael Fass...</td>\n",
       "    </tr>\n",
       "    <tr>\n",
       "      <th>2784</th>\n",
       "      <td>Aladdin</td>\n",
       "      <td>1</td>\n",
       "      <td>You know how sometimes you hear someone try an...</td>\n",
       "    </tr>\n",
       "    <tr>\n",
       "      <th>4259</th>\n",
       "      <td>The Wrong Missy</td>\n",
       "      <td>1</td>\n",
       "      <td>If you seen previous Happy Madison production ...</td>\n",
       "    </tr>\n",
       "    <tr>\n",
       "      <th>830</th>\n",
       "      <td>Shutter Island</td>\n",
       "      <td>1</td>\n",
       "      <td>Shutter Island represents exactly what one sho...</td>\n",
       "    </tr>\n",
       "  </tbody>\n",
       "</table>\n",
       "</div>"
      ],
      "text/plain": [
       "                      Movie_N  Stars  \\\n",
       "148          The F**k-It List      1   \n",
       "3701            The Lion King      1   \n",
       "1929        The Vast of Night      1   \n",
       "3527         Django Unchained      1   \n",
       "2721  Solo: A Star Wars Story      1   \n",
       "4300    The Dark Knight Rises      1   \n",
       "3798             Artemis Fowl      1   \n",
       "2917              Da 5 Bloods      1   \n",
       "2956   No Country for Old Men      1   \n",
       "3746                Gone Girl      1   \n",
       "4171        Bad Boys for Life      1   \n",
       "3246                 Deadpool      1   \n",
       "5674                Greyhound      1   \n",
       "1827      X-Men: Dark Phoenix      1   \n",
       "2784                  Aladdin      1   \n",
       "4259          The Wrong Missy      1   \n",
       "830            Shutter Island      1   \n",
       "\n",
       "                                                 Review  \n",
       "148   What an interesting time to release this movie...  \n",
       "3701  Missed important scenes from the first movie l...  \n",
       "1929  \"The Vast of Night\" was recently purchased by ...  \n",
       "3527  The only gripe here was that this film was a l...  \n",
       "2721   Moreover, the story really doesn't aim to tel...  \n",
       "4300  At a running time of almost 3 hours, the film ...  \n",
       "3798  Holly is wrecked. Root is wrecked. Foaley is n...  \n",
       "2917  This film is an absolute mess. It starts out w...  \n",
       "2956  Overall casting and acting are impressive. I e...  \n",
       "3746                And it only gets better from there.  \n",
       "4171  I love these films and this is nowhere close t...  \n",
       "3246  Sitting in the cinema, the inner critic in me ...  \n",
       "5674  Still, if you are a fan of WWII movies I sugge...  \n",
       "1827  If it wasn't for James McAvoy and Michael Fass...  \n",
       "2784  You know how sometimes you hear someone try an...  \n",
       "4259  If you seen previous Happy Madison production ...  \n",
       "830   Shutter Island represents exactly what one sho...  "
      ]
     },
     "execution_count": 108,
     "metadata": {},
     "output_type": "execute_result"
    }
   ],
   "source": [
    "small_low_df"
   ]
  },
  {
   "cell_type": "code",
   "execution_count": 112,
   "id": "955bfb65",
   "metadata": {},
   "outputs": [
    {
     "data": {
      "image/png": "[encoded data removed]",
      "text/plain": [
       "<Figure size 432x288 with 1 Axes>"
      ]
     },
     "metadata": {
      "needs_background": "light"
     },
     "output_type": "display_data"
    }
   ],
   "source": [
    "# plot of small_low_df\n",
    "plt.Figure(figsize=(200, 100))\n",
    "sns.barplot(x='Stars', data=small_low_df, y='Movie_N', orient='h')\n",
    "plt.title('Lowest Movie Rating from Data Sample')\n",
    "plt.show()"
   ]
  },
  {
   "cell_type": "code",
   "execution_count": null,
   "id": "25438a87",
   "metadata": {},
   "outputs": [],
   "source": []
  },
  {
   "cell_type": "code",
   "execution_count": 141,
   "id": "2f167044",
   "metadata": {},
   "outputs": [],
   "source": [
    "# merged dataframe of highest and lowest rate"
   ]
  },
  {
   "cell_type": "code",
   "execution_count": 149,
   "id": "2a27a1d0",
   "metadata": {},
   "outputs": [],
   "source": [
    "joined_df = pd.merge(on=['Movie_N', 'Stars', 'Review'], right=small_high_df, left=small_low_df, how='outer')"
   ]
  },
  {
   "cell_type": "code",
   "execution_count": 157,
   "id": "8fe53803",
   "metadata": {},
   "outputs": [
    {
     "data": {
      "text/plain": [
       "Movie_N\n",
       "A Clockwork Orange                                   10\n",
       "Aladdin                                               1\n",
       "Artemis Fowl                                          1\n",
       "Bad Boys for Life                                     1\n",
       "Da 5 Bloods                                           1\n",
       "Deadpool                                              1\n",
       "Django Unchained                                     11\n",
       "Gone Girl                                             1\n",
       "Greyhound                                             1\n",
       "Heat                                                 10\n",
       "Interstellar                                         10\n",
       "Léon: The Professional                               10\n",
       "No Country for Old Men                                1\n",
       "Platoon                                              10\n",
       "Shutter Island                                        1\n",
       "Solo: A Star Wars Story                               1\n",
       "The Big Lebowski                                     10\n",
       "The Dark Knight Rises                                 1\n",
       "The Departed                                         10\n",
       "The F**k-It List                                      1\n",
       "The Godfather                                        10\n",
       "The Goonies                                          10\n",
       "The Green Mile                                       10\n",
       "The Lion King                                         1\n",
       "The Lord of the Rings: The Fellowship of the Ring    10\n",
       "The Notebook                                         10\n",
       "The Prestige                                         10\n",
       "The Truman Show                                      10\n",
       "The Twilight Saga: Breaking Dawn - Part 2            10\n",
       "The Vast of Night                                     1\n",
       "The Wrong Missy                                       1\n",
       "X-Men: Dark Phoenix                                   1\n",
       "Yesterday                                            10\n",
       "Name: Stars, dtype: int64"
      ]
     },
     "execution_count": 157,
     "metadata": {},
     "output_type": "execute_result"
    }
   ],
   "source": [
    "# total number of low and high ratings by 0.1% sample size\n",
    "joined_df.groupby(by='Movie_N')['Stars'].sum()"
   ]
  },
  {
   "cell_type": "code",
   "execution_count": 158,
   "id": "e207a1ea",
   "metadata": {},
   "outputs": [],
   "source": [
    "# Answers to skilled-based test"
   ]
  },
  {
   "cell_type": "code",
   "execution_count": 159,
   "id": "01a0021c",
   "metadata": {},
   "outputs": [],
   "source": [
    "# in accordance to the data i downloaded from kaggle,\n",
    "# there are many movies with high ratings and many\n",
    "# with low ratings\n",
    "# a sample data of size o.1% of population was used to \n",
    "# do exploratory data analysis as seen in this notebook"
   ]
  },
  {
   "cell_type": "code",
   "execution_count": 160,
   "id": "711ab773",
   "metadata": {},
   "outputs": [
    {
     "data": {
      "text/plain": [
       "' There are 1677 movies with a high rating of 10 '"
      ]
     },
     "execution_count": 160,
     "metadata": {},
     "output_type": "execute_result"
    }
   ],
   "source": [
    "# questions and answers\n",
    "# 1 - which movie has the highest rating?\n",
    "''' There are 1677 movies with a high rating of 10 '''"
   ]
  },
  {
   "cell_type": "code",
   "execution_count": 161,
   "id": "2b3baf84",
   "metadata": {},
   "outputs": [
    {
     "data": {
      "text/plain": [
       "' 1677 reviewers gave the movies the rating'"
      ]
     },
     "execution_count": 161,
     "metadata": {},
     "output_type": "execute_result"
    }
   ],
   "source": [
    "# 2 - How many reviewers gave it the highest rating?\n",
    "''' 1677 reviewers gave the movies the rating'''"
   ]
  },
  {
   "cell_type": "code",
   "execution_count": 162,
   "id": "3c8941ff",
   "metadata": {},
   "outputs": [
    {
     "data": {
      "text/plain": [
       "' there is 845 low rating of 1 by 845 reviewers'"
      ]
     },
     "execution_count": 162,
     "metadata": {},
     "output_type": "execute_result"
    }
   ],
   "source": [
    "# 3 - what's its least rating and review details?\n",
    "''' there is 845 low rating of 1 by 845 reviewers'''"
   ]
  },
  {
   "cell_type": "code",
   "execution_count": 166,
   "id": "eda2e79b",
   "metadata": {},
   "outputs": [
    {
     "data": {
      "image/png": "[encoded data removed]",
      "text/plain": [
       "<Figure size 432x288 with 1 Axes>"
      ]
     },
     "metadata": {
      "needs_background": "light"
     },
     "output_type": "display_data"
    }
   ],
   "source": [
    "sns.barplot(data=data_df_filtered.sample(20), x='Stars', y='Movie_N', orient='h')\n",
    "plt.title('Ratings vs Movie Title by 20 unbiased sample data')\n",
    "plt.show()"
   ]
  },
  {
   "cell_type": "code",
   "execution_count": null,
   "id": "b1263ccb",
   "metadata": {},
   "outputs": [],
   "source": [
    "# Stars == Ratings!"
   ]
  }
 ],
 "metadata": {
  "kernelspec": {
   "display_name": "Python 3 (ipykernel)",
   "language": "python",
   "name": "python3"
  },
  "language_info": {
   "codemirror_mode": {
    "name": "ipython",
    "version": 3
   },
   "file_extension": ".py",
   "mimetype": "text/x-python",
   "name": "python",
   "nbconvert_exporter": "python",
   "pygments_lexer": "ipython3",
   "version": "3.9.12"
  },
  "latex_envs": {
   "LaTeX_envs_menu_present": true,
   "autoclose": false,
   "autocomplete": true,
   "bibliofile": "biblio.bib",
   "cite_by": "apalike",
   "current_citInitial": 1,
   "eqLabelWithNumbers": true,
   "eqNumInitial": 1,
   "hotkeys": {
    "equation": "Ctrl-E",
    "itemize": "Ctrl-I"
   },
   "labels_anchors": false,
   "latex_user_defs": false,
   "report_style_numbering": false,
   "user_envs_cfg": false
  },
  "toc": {
   "base_numbering": 1,
   "nav_menu": {},
   "number_sections": true,
   "sideBar": true,
   "skip_h1_title": false,
   "title_cell": "Table of Contents",
   "title_sidebar": "Contents",
   "toc_cell": false,
   "toc_position": {},
   "toc_section_display": true,
   "toc_window_display": false
  },
  "varInspector": {
   "cols": {
    "lenName": 16,
    "lenType": 16,
    "lenVar": 40
   },
   "kernels_config": {
    "python": {
     "delete_cmd_postfix": "",
     "delete_cmd_prefix": "del ",
     "library": "var_list.py",
     "varRefreshCmd": "print(var_dic_list())"
    },
    "r": {
     "delete_cmd_postfix": ") ",
     "delete_cmd_prefix": "rm(",
     "library": "var_list.r",
     "varRefreshCmd": "cat(var_dic_list()) "
    }
   },
   "types_to_exclude": [
    "module",
    "function",
    "builtin_function_or_method",
    "instance",
    "_Feature"
   ],
   "window_display": false
  }
 },
 "nbformat": 4,
 "nbformat_minor": 5
}
